{
 "cells": [
  {
   "cell_type": "code",
   "execution_count": 1,
   "id": "1b28ab3b-ad47-406f-9ee9-c55148df8caa",
   "metadata": {},
   "outputs": [
    {
     "name": "stdout",
     "output_type": "stream",
     "text": [
      "x\n",
      "12.2\n"
     ]
    }
   ],
   "source": [
    "x='12.2'\n",
    "print('x')\n",
    "print(x)\n"
   ]
  },
  {
   "cell_type": "code",
   "execution_count": 2,
   "id": "139f2dea-fab2-4b86-abf5-88113d73577c",
   "metadata": {},
   "outputs": [
    {
     "name": "stdout",
     "output_type": "stream",
     "text": [
      "23\n",
      "10\n"
     ]
    },
    {
     "ename": "NameError",
     "evalue": "name 'z' is not defined",
     "output_type": "error",
     "traceback": [
      "\u001b[1;31m---------------------------------------------------------------------------\u001b[0m",
      "\u001b[1;31mNameError\u001b[0m                                 Traceback (most recent call last)",
      "Cell \u001b[1;32mIn[2], line 5\u001b[0m\n\u001b[0;32m      3\u001b[0m \u001b[38;5;28mprint\u001b[39m(x)\n\u001b[0;32m      4\u001b[0m \u001b[38;5;28mprint\u001b[39m(y)\n\u001b[1;32m----> 5\u001b[0m \u001b[38;5;28mprint\u001b[39m(z)\n",
      "\u001b[1;31mNameError\u001b[0m: name 'z' is not defined"
     ]
    }
   ],
   "source": [
    "x = 23\n",
    "y = 10\n",
    "print(x)\n",
    "print(y)\n",
    "print(z)\n"
   ]
  },
  {
   "cell_type": "code",
   "execution_count": 3,
   "id": "f85c929f-c983-47db-be19-d75bc2dd4159",
   "metadata": {},
   "outputs": [
    {
     "name": "stdout",
     "output_type": "stream",
     "text": [
      "10 20 30\n"
     ]
    }
   ],
   "source": [
    "a, b, c = 10, 20, 30\n",
    "print(a, b, c)\n"
   ]
  },
  {
   "cell_type": "code",
   "execution_count": 4,
   "id": "62d7959f-162b-424d-a114-939a82838b1f",
   "metadata": {},
   "outputs": [
    {
     "name": "stdout",
     "output_type": "stream",
     "text": [
      "Welcome our favorite hero:\n",
      "John\n",
      "He is changing his name to:\n",
      "Sam\n"
     ]
    }
   ],
   "source": [
    "name = \"John\"\n",
    "print(\"Welcome our favorite hero:\")\n",
    "print(name)\n",
    "name = \"Sam\"\n",
    "print(\"He is changing his name to:\")\n",
    "print(name)\n"
   ]
  },
  {
   "cell_type": "code",
   "execution_count": 5,
   "id": "67e3ed2f-8f07-4ef2-a29d-7a54c8309da3",
   "metadata": {},
   "outputs": [
    {
     "data": {
      "text/plain": [
       "76.0"
      ]
     },
     "execution_count": 5,
     "metadata": {},
     "output_type": "execute_result"
    }
   ],
   "source": [
    "2 + 3 * (36 / 9 + 1) ** 2 - 1\n"
   ]
  },
  {
   "cell_type": "code",
   "execution_count": 6,
   "id": "512d5936-7b88-4af9-872e-9c8b67a5e901",
   "metadata": {},
   "outputs": [
    {
     "data": {
      "text/plain": [
       "6"
      ]
     },
     "execution_count": 6,
     "metadata": {},
     "output_type": "execute_result"
    }
   ],
   "source": [
    "3 + 2 & 4 | 2\n"
   ]
  },
  {
   "cell_type": "code",
   "execution_count": 9,
   "id": "139f9e3a-96b5-45dc-93d5-966eae8621c8",
   "metadata": {},
   "outputs": [
    {
     "name": "stdout",
     "output_type": "stream",
     "text": [
      "*****\n",
      "*****\n",
      "*****\n",
      "*****\n",
      "*****\n"
     ]
    }
   ],
   "source": [
    "# Define the number of rows and columns\n",
    "rows = 5\n",
    "columns = 5\n",
    "\n",
    "# Use a for loop to print the shape\n",
    "for i in range(rows):\n",
    "    print('*' * columns)\n"
   ]
  },
  {
   "cell_type": "code",
   "execution_count": null,
   "id": "54385e0d-2778-49c8-870a-8eca09be472e",
   "metadata": {},
   "outputs": [],
   "source": []
  }
 ],
 "metadata": {
  "kernelspec": {
   "display_name": "Python 3 (ipykernel)",
   "language": "python",
   "name": "python3"
  },
  "language_info": {
   "codemirror_mode": {
    "name": "ipython",
    "version": 3
   },
   "file_extension": ".py",
   "mimetype": "text/x-python",
   "name": "python",
   "nbconvert_exporter": "python",
   "pygments_lexer": "ipython3",
   "version": "3.12.7"
  }
 },
 "nbformat": 4,
 "nbformat_minor": 5
}
